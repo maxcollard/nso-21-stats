{
 "cells": [
  {
   "cell_type": "markdown",
   "id": "a8f85dcf-5c86-41e1-9d30-55b1a281e750",
   "metadata": {
    "slideshow": {
     "slide_type": "slide"
    }
   },
   "source": [
    "# Gaining knowledge from tests\n",
    "#### Max Collard, September 2021"
   ]
  },
  {
   "cell_type": "markdown",
   "id": "114a3f34",
   "metadata": {
    "slideshow": {
     "slide_type": "slide"
    }
   },
   "source": [
    "# A clairvoyant mouse?"
   ]
  },
  {
   "cell_type": "markdown",
   "id": "0cc2e36b",
   "metadata": {
    "slideshow": {
     "slide_type": "fragment"
    }
   },
   "source": [
    "You look at your data, and you see that you **reject the null hypothesis** that *your mouse's neurons contain no information about the future* with a $p$-value of 0.014."
   ]
  },
  {
   "cell_type": "markdown",
   "id": "93511db8",
   "metadata": {
    "slideshow": {
     "slide_type": "fragment"
    }
   },
   "source": [
    "### What do you do with this information?"
   ]
  },
  {
   "cell_type": "markdown",
   "id": "bd0f6875",
   "metadata": {
    "slideshow": {
     "slide_type": "slide"
    }
   },
   "source": [
    "# Let's think about it another way"
   ]
  },
  {
   "cell_type": "markdown",
   "id": "2bb6f453",
   "metadata": {
    "slideshow": {
     "slide_type": "fragment"
    }
   },
   "source": [
    "For the last four weeks, you've been doing nothing but sitting in your room alone studying for your qualifying exam, with **absolutely zero human contact**."
   ]
  },
  {
   "cell_type": "markdown",
   "id": "6c7e2975",
   "metadata": {
    "slideshow": {
     "slide_type": "fragment"
    }
   },
   "source": [
    "You take it and pass—**hooray!**"
   ]
  },
  {
   "cell_type": "markdown",
   "id": "ea58081b",
   "metadata": {
    "slideshow": {
     "slide_type": "subslide"
    }
   },
   "source": [
    "But while you've been away studying, UCSF has announced a new policy requiring all graduate students to be tested for Covid-19 daily. You must provide a negative test result before entering any research building on-campus! (*No, not really.*)"
   ]
  },
  {
   "cell_type": "markdown",
   "id": "5c99fd98",
   "metadata": {
    "slideshow": {
     "slide_type": "fragment"
    }
   },
   "source": [
    "You grab a test from one of the Color vending machines and wait at home for the results to come back. The next day, you get the dreaded email:"
   ]
  },
  {
   "cell_type": "markdown",
   "id": "6abc1300",
   "metadata": {
    "slideshow": {
     "slide_type": "subslide"
    }
   },
   "source": [
    "`SARS-CoV-2 Antigen:    DETECTED`"
   ]
  },
  {
   "cell_type": "markdown",
   "id": "8b8a0539",
   "metadata": {
    "slideshow": {
     "slide_type": "fragment"
    }
   },
   "source": [
    "### What do you do with this information?"
   ]
  },
  {
   "cell_type": "markdown",
   "id": "fad002e5",
   "metadata": {
    "slideshow": {
     "slide_type": "subslide"
    }
   },
   "source": [
    "# Do you think you have Covid?\n",
    "\n",
    "## Why do you think that?"
   ]
  },
  {
   "cell_type": "markdown",
   "id": "efae4d8d-0680-49dd-9db8-3fb1ec07291a",
   "metadata": {
    "slideshow": {
     "slide_type": "slide"
    }
   },
   "source": [
    "# Let's scale it up"
   ]
  },
  {
   "cell_type": "markdown",
   "id": "f52191c9",
   "metadata": {
    "slideshow": {
     "slide_type": "subslide"
    }
   },
   "source": [
    "Right now (9/1/21), the prevalence of Covid in San Francisco is about 350 per 100,000. If you were to pick a person at random from San Francisco with no other knowledge, this would be the chance of picking someone who currently has Covid."
   ]
  },
  {
   "cell_type": "code",
   "execution_count": 2,
   "id": "fbd2ca55-2f09-459b-bd53-8eba2b0ffd2d",
   "metadata": {},
   "outputs": [],
   "source": [
    "covid_prevalence = 350 / 100000"
   ]
  },
  {
   "cell_type": "markdown",
   "id": "c3050613",
   "metadata": {
    "slideshow": {
     "slide_type": "subslide"
    }
   },
   "source": [
    "Recall that the $p$-value is defined by thinking about what our observations would be by chance if we **pre-suppose that the null hypothesis is in fact true**:\n",
    "\n",
    "$$ p = \\mathrm{Pr}(\\textrm{we observe a difference} \\mid \\textrm{there is no difference}) $$"
   ]
  },
  {
   "cell_type": "markdown",
   "id": "11f5dcb2",
   "metadata": {
    "slideshow": {
     "slide_type": "fragment"
    }
   },
   "source": [
    "> This is convenient to use, because we can always **impose** the null hypothesis by shuffling our data. This is called **permutation testing**."
   ]
  },
  {
   "cell_type": "markdown",
   "id": "b14e4c5d-4eee-42d0-96a1-60687d01763c",
   "metadata": {
    "slideshow": {
     "slide_type": "subslide"
    }
   },
   "source": [
    "Usually, diagnostic tests are evaluated kind of like $p$-values: we use measures that ask how the *test* behaves when we **pre-suppose the truth**.\n",
    "\n",
    "**Sensitivity** measures the probability that a person tests positive **given** that they actually have the disease:\n",
    "\n",
    "$$ \\mathrm{sensitivity} = \\mathrm{Pr}(\\textrm{test }+ \\mid \\textrm{actually }+) $$\n",
    "\n",
    "**Specificity** measures the probability that a person tests negative **given** that they actually *do not* have the disease,\n",
    "\n",
    "$$ \\mathrm{specificity} = \\mathrm{Pr}(\\textrm{test }- \\mid \\textrm{actually }-) $$"
   ]
  },
  {
   "cell_type": "markdown",
   "id": "f171b625",
   "metadata": {
    "slideshow": {
     "slide_type": "subslide"
    }
   },
   "source": [
    "#### N.B.\n",
    "\n",
    "The $p$-value can be thought of as\n",
    "\n",
    "$$ p = \\mathrm{Pr}(\\textrm{test }+ \\mid \\textrm{actually }-) $$\n",
    "\n",
    "Because there are only two test outcomes, $+$ and $-$, this means that\n",
    "\n",
    "$$ p = 1 - \\mathrm{specificity} $$"
   ]
  },
  {
   "cell_type": "markdown",
   "id": "ecff23b4",
   "metadata": {
    "slideshow": {
     "slide_type": "subslide"
    }
   },
   "source": [
    "Let's suppose that the currently used RT-PCR test for Covid has approximately the following characteristics:"
   ]
  },
  {
   "cell_type": "code",
   "execution_count": 2,
   "id": "d0933490-a769-4cfa-a577-148d588de47e",
   "metadata": {},
   "outputs": [],
   "source": [
    "rtpcr_sensitivity = 0.777\n",
    "rtpcr_specificity = 0.988"
   ]
  },
  {
   "cell_type": "markdown",
   "id": "245b3cfc",
   "metadata": {},
   "source": [
    "> (These are based on contemporary literature, although finding these values is quite challenging in practice.)"
   ]
  },
  {
   "cell_type": "markdown",
   "id": "d5b60186",
   "metadata": {
    "slideshow": {
     "slide_type": "subslide"
    }
   },
   "source": [
    "# You just got a positive test.\n",
    "\n",
    "## What do the sensitivity and specificity tell you?"
   ]
  },
  {
   "cell_type": "markdown",
   "id": "43116829",
   "metadata": {
    "slideshow": {
     "slide_type": "slide"
    }
   },
   "source": [
    "# Predictive value"
   ]
  },
  {
   "cell_type": "markdown",
   "id": "5b787d91",
   "metadata": {
    "slideshow": {
     "slide_type": "fragment"
    }
   },
   "source": [
    "You already **know** that you've tested positive. What you would like to **infer** is whether or not you actually have Covid."
   ]
  },
  {
   "cell_type": "markdown",
   "id": "b6a51972",
   "metadata": {
    "slideshow": {
     "slide_type": "fragment"
    }
   },
   "source": [
    "## Sensitivity and specificity do not tell you this\n",
    "\n",
    "(And so, neither do **$p$-values**!)"
   ]
  },
  {
   "cell_type": "markdown",
   "id": "c90aede5",
   "metadata": {
    "slideshow": {
     "slide_type": "subslide"
    }
   },
   "source": [
    "What you want to know are the quantities with the **opposite conditioning**: we **know** the test result once we get it, but we must **infer** the truth about whether we actually have Covid **given** that test result."
   ]
  },
  {
   "cell_type": "markdown",
   "id": "49908986-2adf-4a8a-ad0b-c4055cddc429",
   "metadata": {
    "slideshow": {
     "slide_type": "subslide"
    }
   },
   "source": [
    "**Positive predictive value** is the probability one *actually has the disease* **given** a positive test result:\n",
    "\n",
    "$$ \\mathrm{PPV} = \\mathrm{Pr}(\\textrm{actually }+ \\mid \\textrm{test }+) $$\n",
    "\n",
    "Now that you have a positive Covid test, the **PPV** is the probability that you **actually** have Covid.\n",
    "\n",
    "**Negative predictive value** is the probability one *actually does not have the disease* **given** a negative test result:\n",
    "\n",
    "$$ \\mathrm{NPV} = \\mathrm{Pr}(\\textrm{actually }- \\mid \\textrm{test }-) $$"
   ]
  },
  {
   "cell_type": "markdown",
   "id": "792c92b0",
   "metadata": {
    "slideshow": {
     "slide_type": "subslide"
    }
   },
   "source": [
    "### What do you think are the PPV and NPV for the RT-PCR test?"
   ]
  },
  {
   "cell_type": "code",
   "execution_count": 3,
   "id": "689e403b-d9c9-4ae6-b41b-e7adeacdc6d8",
   "metadata": {
    "slideshow": {
     "slide_type": "notes"
    }
   },
   "outputs": [],
   "source": [
    "import numpy as np\n",
    "\n",
    "# I'm going to be re-using this simulation a lot, so I'll make it a function\n",
    "def sample_results( n, prevalence, sensitivity, specificity ):\n",
    "    \n",
    "    # First, simulate the \"truth\":\n",
    "    # The fraction of the time that a uniform random number between 0 and 1\n",
    "    # is below `prevalence` is ... `prevalence`!\n",
    "    has_disease = np.random.uniform( size = (n,) ) < prevalence\n",
    "    \n",
    "    # Now, use sensitivity and specificity to determine test results based on the truth\n",
    "    \n",
    "    # Pre-allocate where I'm going to store the results\n",
    "    test_results = np.zeros( (n,), dtype = bool )\n",
    "    # We need a \"hidden\" random variable to determine the results of each test\n",
    "    hidden_randoms = np.random.uniform( size = (n,) )\n",
    "    \n",
    "    # Iterate over each individual in the population\n",
    "    # N.B.: I'm doing some Python magic here:\n",
    "    # * `enumerate` allows me to iterate through a something and also keep track of its index\n",
    "    # * `zip` allows me to \"glue together\" two iterable things (like arrays) element by element.\n",
    "    # Writing my code this way helps prevent me from losing track of what index belongs to what\n",
    "    for i_individual, (individual_has_disease, individual_hidden) in enumerate( zip( has_disease, hidden_randoms ) ):\n",
    "        if individual_has_disease:\n",
    "            # As above, this will be true `sensitivity` portion of the time\n",
    "            if individual_hidden < sensitivity:\n",
    "                # *Given* the individual has the disease, `sensitivity` portion of the time,\n",
    "                # the person will test *positive*\n",
    "                test_results[i_individual] = True\n",
    "            else:\n",
    "                # ... otherwise, they test negative\n",
    "                test_results[i_individual] = False\n",
    "        else:\n",
    "            if individual_hidden < specificity:\n",
    "                # *Given* the individual *does not* have the disease, `specificity` portion of the time,\n",
    "                # the person will test *negative*\n",
    "                test_results[i_individual] = False\n",
    "            else:\n",
    "                # ... otherwise, they test positive\n",
    "                test_results[i_individual] = True\n",
    "    \n",
    "    return has_disease, test_results"
   ]
  },
  {
   "cell_type": "markdown",
   "id": "f422d98a",
   "metadata": {
    "slideshow": {
     "slide_type": "subslide"
    }
   },
   "source": [
    "Let's simulate one day's worth of Covid tests at UCSF:"
   ]
  },
  {
   "cell_type": "code",
   "execution_count": 4,
   "id": "2ab85d35-0c25-432b-8822-9e0f24e8548f",
   "metadata": {
    "slideshow": {
     "slide_type": "fragment"
    }
   },
   "outputs": [
    {
     "name": "stdout",
     "output_type": "stream",
     "text": [
      "Cases today: 86\n",
      "Positive tests today: 353\n"
     ]
    }
   ],
   "source": [
    "# Approximately the number of employees at UCSF\n",
    "n_employees = 24000\n",
    "# Run our simulation and grab the results\n",
    "has_covid, rtpcr_positive = sample_results( n_employees,\n",
    "                                            covid_prevalence,\n",
    "                                            rtpcr_sensitivity,\n",
    "                                            rtpcr_specificity )\n",
    "\n",
    "# If I put an f in front of my string, I can use curly braces to put Python code inside of it\n",
    "print( f'Cases today: {np.sum( has_covid )}' )\n",
    "print( f'Positive tests today: {np.sum( rtpcr_positive )}' )"
   ]
  },
  {
   "cell_type": "markdown",
   "id": "6910eb59-998f-4d3a-9c3c-210162e54ae7",
   "metadata": {
    "slideshow": {
     "slide_type": "subslide"
    }
   },
   "source": [
    "Clearly something funky is going on: there are way more positive tests than cases!\n",
    "\n",
    "As is always good practice, let's take a look at a subsample of the raw data:"
   ]
  },
  {
   "cell_type": "code",
   "execution_count": 5,
   "id": "72425530-c8fe-40ae-b023-1918f8fbfcf7",
   "metadata": {
    "slideshow": {
     "slide_type": "notes"
    }
   },
   "outputs": [],
   "source": [
    "import matplotlib.pyplot as plt\n",
    "\n",
    "# I'm going to make the same plot later, so I'll make a function I can reuse so I don't duplicate code\n",
    "def sample_plot( ax, has_disease, test_results,\n",
    "                 n_sample = 1000 ):\n",
    "\n",
    "    # np.c_ takes two arrays and jams them together as *c*olumns\n",
    "    # Then, .T *T*ransposes it, so that they're rows\n",
    "    raster = np.c_[has_disease, test_results].T.astype( float )\n",
    "    # I only want to display a little part of the whole raster, cause it's huge, so I slice it with :\n",
    "    raster = raster[:, :n_sample]\n",
    "    \n",
    "    # I'm assuming here that I've created an \"axes\" object that I can plot inside of\n",
    "    # This makes it so that I can re-use the same function on multiple plots in the same figure!\n",
    "    ax.imshow( raster,\n",
    "               aspect = 'auto',\n",
    "               interpolation = 'none', ) # These are just my personal preferences for image plots\n",
    "\n",
    "    ax.set_xlabel( 'Sample #' )\n",
    "    \n",
    "    ax.set_yticks( [0, 1] )\n",
    "    ax.set_yticklabels( ['Has Covid?', 'Test Result'],\n",
    "                        rotation = 45 )"
   ]
  },
  {
   "cell_type": "code",
   "execution_count": 6,
   "id": "dcab51a4-4aa1-46bf-80ff-9397559cb294",
   "metadata": {
    "slideshow": {
     "slide_type": "fragment"
    }
   },
   "outputs": [
    {
     "data": {
      "image/png": "[encoded data removed]",
      "text/plain": [
       "<Figure size 1728x144 with 1 Axes>"
      ]
     },
     "metadata": {
      "needs_background": "light"
     },
     "output_type": "display_data"
    }
   ],
   "source": [
    "# Subplots allows us to lay out some axes (`ax`) inside of a figure (`fig`) that we can manipulate later\n",
    "fig, ax = plt.subplots( figsize = (24, 2) )\n",
    "# Use the plotting function we just made on these axes\n",
    "sample_plot( ax, has_covid, rtpcr_positive )\n",
    "# We're all done building the plots, we want to displaly them now\n",
    "plt.show()"
   ]
  },
  {
   "cell_type": "markdown",
   "id": "30fabda4-2cdb-460f-8589-58fb15f6de67",
   "metadata": {},
   "source": [
    "By eye, it *definitely* looks like there are a lot of false positives."
   ]
  },
  {
   "cell_type": "code",
   "execution_count": 7,
   "id": "2825e5a1-22ca-4d0e-a5ee-82de3808e42f",
   "metadata": {
    "slideshow": {
     "slide_type": "notes"
    }
   },
   "outputs": [],
   "source": [
    "# Again, I'm going to be doing these computations a lot, so I'll make a function I can re-use\n",
    "def predictive_value( has_disease, test_results ):\n",
    "    # PPV\n",
    "    n_test_pos = np.sum( test_results )\n",
    "    # & operates on boolean arrays element by element\n",
    "    # So `a & b` is an array where each entry is `True` if the corresponding entries of both\n",
    "    # `a` and `b` are both `True`\n",
    "    # True positives are those that have the disease *and* test positive\n",
    "    n_true_pos = np.sum( has_disease & test_results )\n",
    "    ppv = n_true_pos / n_test_pos\n",
    "    # NPV\n",
    "    # ~ operates on boolean arrays element by element\n",
    "    # So `~a` is an array where each entry is `True` if the corresponding entry of `a` is `False`\n",
    "    n_test_neg = np.sum( ~test_results )\n",
    "    # True negatives are those that *do not* have the disease *and* *do not* test positive\n",
    "    n_true_neg = np.sum( (~has_disease) & (~test_results) )\n",
    "    npv = n_true_neg / n_test_neg\n",
    "    \n",
    "    return ppv, npv"
   ]
  },
  {
   "cell_type": "markdown",
   "id": "4a663408",
   "metadata": {
    "slideshow": {
     "slide_type": "subslide"
    }
   },
   "source": [
    "### What are the PPV and NPV?"
   ]
  },
  {
   "cell_type": "code",
   "execution_count": 8,
   "id": "9730c7d4-b46e-4bd9-b685-dad5300a1099",
   "metadata": {
    "slideshow": {
     "slide_type": "fragment"
    }
   },
   "outputs": [
    {
     "name": "stdout",
     "output_type": "stream",
     "text": [
      "Naive PPV: 17.85%\n",
      "Naive NPV: 99.90%\n"
     ]
    }
   ],
   "source": [
    "ppv_naive, npv_naive = predictive_value( has_covid, rtpcr_positive )\n",
    "\n",
    "# We can do math in our curly braces; here I convert the ratios into percents\n",
    "# The `:0.2f` at the end tells Python that I want 2 digits after the decimal point\n",
    "# (not at all intuitive; blame the C people who wrote the original `printf`)\n",
    "print( f'Naive PPV: {ppv_naive * 100:0.2f}%' )\n",
    "print( f'Naive NPV: {npv_naive * 100:0.2f}%' )"
   ]
  },
  {
   "cell_type": "markdown",
   "id": "490be4e7-fc68-4bb7-a98b-7a6af68be1a0",
   "metadata": {
    "slideshow": {
     "slide_type": "subslide"
    }
   },
   "source": [
    "Let's talk about the good news first: \n",
    "\n",
    "* A *negative* test is **extremely informative**: if you receive a negative test result, you can say with almost certainty that you are in the clear."
   ]
  },
  {
   "cell_type": "markdown",
   "id": "0600524e",
   "metadata": {
    "slideshow": {
     "slide_type": "fragment"
    }
   },
   "source": [
    "* *However*, in this setup, a *positive* test is **not very informative**: in fact, if you were to receive a positive RT-PCR test, *there is an ~85% chance that you still don't have Covid*. Put another way, **more than 4 out of every 5 positive tests are actually false positives**."
   ]
  },
  {
   "cell_type": "markdown",
   "id": "e437b41d",
   "metadata": {
    "slideshow": {
     "slide_type": "subslide"
    }
   },
   "source": [
    "This screening procedure is going to result in hundreds of people being sent into quarantine every day; in fact, if quarantine lasts for two work weeks, then to a first approximation, about 13% of the entire workforce will be quarantining at any given moment from false positive tests alone:"
   ]
  },
  {
   "cell_type": "code",
   "execution_count": 9,
   "id": "b2e99965-17bf-402a-88e0-27a2dafe115f",
   "metadata": {
    "slideshow": {
     "slide_type": "fragment"
    }
   },
   "outputs": [
    {
     "name": "stdout",
     "output_type": "stream",
     "text": [
      "Fraction of workforce quarantined: 12.08%\n"
     ]
    }
   ],
   "source": [
    "quarantine_workdays = 10\n",
    "# False positives *do not* have Covid *and* test positive\n",
    "quarantine_false_positives_per_day = np.sum( ~has_covid & rtpcr_positive )\n",
    "quarantine_false_positives_simultaneous = quarantine_false_positives_per_day * quarantine_workdays\n",
    "quarantine_fraction = quarantine_false_positives_simultaneous / n_employees\n",
    "\n",
    "print( f'Fraction of workforce quarantined: {quarantine_fraction * 100:0.2f}%' )"
   ]
  },
  {
   "cell_type": "markdown",
   "id": "8becb8ca-05af-40d3-9beb-5344b960713f",
   "metadata": {
    "slideshow": {
     "slide_type": "subslide"
    }
   },
   "source": [
    "#### N.B.\n",
    "\n",
    "This test also has an extremely high **accuracy**, which is the probability of the test being *correct*:"
   ]
  },
  {
   "cell_type": "code",
   "execution_count": 10,
   "id": "56d0e601-4dab-4658-9f88-17647a74cef1",
   "metadata": {
    "slideshow": {
     "slide_type": "fragment"
    }
   },
   "outputs": [
    {
     "name": "stdout",
     "output_type": "stream",
     "text": [
      "Naive accuracy: 98.70%\n"
     ]
    }
   ],
   "source": [
    "# == operates element by element on arrays\n",
    "# `a == b` is an array where each element is `True` if the corresponding elements of\n",
    "# `a` and `b` are equal\n",
    "accuracy_naive = np.sum( has_covid == rtpcr_positive ) / len( has_covid )\n",
    "\n",
    "print( f'Naive accuracy: {accuracy_naive * 100:0.2f}%' )"
   ]
  },
  {
   "cell_type": "markdown",
   "id": "8d137524-e085-4b98-973b-741b7d5e774c",
   "metadata": {
    "slideshow": {
     "slide_type": "fragment"
    }
   },
   "source": [
    "But, accuracy as a \"summary statistic\" of the test is hiding the fact that we're actually doing quite a terrible job with the *positive predictive value*, the much more \"actionable\" piece of information, because **the prevalence of Covid cases is so low**."
   ]
  },
  {
   "cell_type": "markdown",
   "id": "84e80712",
   "metadata": {
    "slideshow": {
     "slide_type": "subslide"
    }
   },
   "source": [
    "# What's going wrong?\n",
    "\n",
    "## Is this a bad test?\n",
    "\n",
    "## Do you think you have Covid?"
   ]
  },
  {
   "cell_type": "markdown",
   "id": "5dacb18b-9880-45dc-930d-80717c407820",
   "metadata": {
    "slideshow": {
     "slide_type": "slide"
    }
   },
   "source": [
    "# Let's try something different"
   ]
  },
  {
   "cell_type": "markdown",
   "id": "816f51ef-c1b4-40b7-869e-e66e38a505d5",
   "metadata": {
    "slideshow": {
     "slide_type": "subslide"
    }
   },
   "source": [
    "In our simulation, the **prevalence** of Covid was thought of as **the probability that someone in our sample had Covid**. We took this to be the prevalence of Covid in San Francisco, under the assumption that we were testing people esssentially randomly, and had no criteria for how we were selecting people to test."
   ]
  },
  {
   "cell_type": "markdown",
   "id": "9af75ef6",
   "metadata": {
    "slideshow": {
     "slide_type": "fragment"
    }
   },
   "source": [
    "After briefly quarantining a substantial portion of its workforce, UCSF has decided to try a new schema. Now, **only people who have an exposure to a confirmed symptomatic case** will be tested.\n",
    "\n",
    "While before we had no clue about the people being tested, this new selection criterion means gives us **knowledge** (of the exposure). This knowledge changes our **prior belief**, before even running the test, of whether or not a person being tested has Covid: we *expect* that someone who has had an exposure is more likely to have Covid than someone chosen at random from the general population."
   ]
  },
  {
   "cell_type": "markdown",
   "id": "ac9d3422",
   "metadata": {
    "slideshow": {
     "slide_type": "subslide"
    }
   },
   "source": [
    "**All of the characteristics of the test itself are still exactly the same**: the same reagents, the same technique, everything. The only thing we'll change to simulate this new scenario is the **proportion of tested people who have Covid**. Let's say that an exposure to a symptomatic case of Covid carries an associated risk of infection of 5%:"
   ]
  },
  {
   "cell_type": "code",
   "execution_count": 17,
   "id": "bb94997d-b32f-46b9-bbc5-ce035cd9ddfa",
   "metadata": {},
   "outputs": [],
   "source": [
    "covid_belief_suspicious = 0.05"
   ]
  },
  {
   "cell_type": "markdown",
   "id": "0431d611-271e-401f-90ad-d2b546e8ab19",
   "metadata": {
    "slideshow": {
     "slide_type": "subslide"
    }
   },
   "source": [
    "## What do you think will happen to the PPV of our test in this new scheme? How about the NPV?"
   ]
  },
  {
   "cell_type": "markdown",
   "id": "42061f51",
   "metadata": {
    "slideshow": {
     "slide_type": "subslide"
    }
   },
   "source": [
    "Let's run a simulation of a group of employees with suspected Covid exposure:"
   ]
  },
  {
   "cell_type": "code",
   "execution_count": 12,
   "id": "7c40dfb1-5ba3-4052-af13-e76f14b5d1ad",
   "metadata": {
    "slideshow": {
     "slide_type": "fragment"
    }
   },
   "outputs": [
    {
     "name": "stdout",
     "output_type": "stream",
     "text": [
      "Cases among the suspicious 🤔: 56\n",
      "Positive tests among the suspicious 🤔: 45\n"
     ]
    }
   ],
   "source": [
    "n_suspicious = 1000\n",
    "has_covid_suspicious, rtpcr_positive_suspicious = sample_results( n_suspicious,\n",
    "                                                                  covid_belief_suspicious,\n",
    "                                                                  rtpcr_sensitivity,  # Same as before!\n",
    "                                                                  rtpcr_specificity ) # Same as before!\n",
    "\n",
    "# Python is fully Unicode compatible for strings, so there's no reason not to include emoji 🤪\n",
    "print( f'Cases among the suspicious 🤔: {np.sum( has_covid_suspicious )}' )\n",
    "print( f'Positive tests among the suspicious 🤔: {np.sum( rtpcr_positive_suspicious )}' )\n",
    "\n",
    "# You can't use emoji in variable names, though 😢"
   ]
  },
  {
   "cell_type": "code",
   "execution_count": 13,
   "id": "b19ce720-2b81-4059-be24-1da954577d53",
   "metadata": {
    "slideshow": {
     "slide_type": "fragment"
    }
   },
   "outputs": [
    {
     "data": {
      "image/png": "[encoded data removed]",
      "text/plain": [
       "<Figure size 1728x144 with 1 Axes>"
      ]
     },
     "metadata": {
      "needs_background": "light"
     },
     "output_type": "display_data"
    }
   ],
   "source": [
    "fig, ax = plt.subplots( figsize = (24, 2) )\n",
    "sample_plot( ax, has_covid_suspicious, rtpcr_positive_suspicious )\n",
    "plt.show()"
   ]
  },
  {
   "cell_type": "markdown",
   "id": "94666a0b",
   "metadata": {
    "slideshow": {
     "slide_type": "subslide"
    }
   },
   "source": [
    "Already this is looking much more reasonable. **What are the PPV and the NPV**?"
   ]
  },
  {
   "cell_type": "code",
   "execution_count": 14,
   "id": "a7864159-5c63-40a4-acad-4cbf7fe64d1a",
   "metadata": {
    "slideshow": {
     "slide_type": "fragment"
    }
   },
   "outputs": [
    {
     "name": "stdout",
     "output_type": "stream",
     "text": [
      "Suspicious PPV: 82.22%\n",
      "Suspicious NPV: 98.01%\n"
     ]
    }
   ],
   "source": [
    "ppv_suspicious, npv_suspicious = predictive_value( has_covid_suspicious, rtpcr_positive_suspicious )\n",
    "\n",
    "print( f'Suspicious PPV: {ppv_suspicious * 100:0.2f}%' )\n",
    "print( f'Suspicious NPV: {npv_suspicious * 100:0.2f}%' )"
   ]
  },
  {
   "cell_type": "markdown",
   "id": "44b8caed-fd5e-49fe-889c-26f0de16e006",
   "metadata": {
    "slideshow": {
     "slide_type": "subslide"
    }
   },
   "source": [
    "## Aha!\n",
    "\n",
    "The PPV has jumped dramatically, from about 18% to about 82%! In this setting—where we have some **additional knowledge** about who we're testing—the **same exact test** has become **a lot more useful**."
   ]
  },
  {
   "cell_type": "markdown",
   "id": "62a88cd1",
   "metadata": {
    "slideshow": {
     "slide_type": "subslide"
    }
   },
   "source": [
    "#### N.B.\n",
    "\n",
    "There is no free lunch, of course; the cost we pay is that the NPV in this scenario is now *slightly* lower!"
   ]
  },
  {
   "cell_type": "markdown",
   "id": "aa72b384",
   "metadata": {
    "slideshow": {
     "slide_type": "subslide"
    }
   },
   "source": [
    "The critical takeaway message is this:\n",
    "\n",
    "## How useful a test is depends on our prior belief about the thing we're testing for."
   ]
  },
  {
   "cell_type": "markdown",
   "id": "e70f294e",
   "metadata": {},
   "source": [
    "# TODO: Re-tooling here and below"
   ]
  },
  {
   "cell_type": "markdown",
   "id": "7c687b0f-590f-4936-b6ca-1e4ac96bb6db",
   "metadata": {
    "slideshow": {
     "slide_type": "slide"
    }
   },
   "source": [
    "### Bayes' Rule and the Importance of Priors"
   ]
  },
  {
   "cell_type": "markdown",
   "id": "8ec65bed-c20c-4451-b8bb-7e7f78bc8bd8",
   "metadata": {},
   "source": [
    "The reason that this happens is because of **Bayes' rule**, which enables us to \"flip\" our assumptions about different probabilities. In the setting of Covid tests, Bayes' rule takes the form\n",
    "\n",
    "$$ \\mathrm{Pr}(\\textrm{actually }+ \\mid \\textrm{test }+) = \\frac{\\mathrm{Pr}(\\textrm{test }+ \\mid \\textrm{actually }+)\\,\\mathrm{Pr}(\\textrm{actually }+)}{\\mathrm{Pr}(\\textrm{test }+)} $$\n",
    "\n",
    "We know what a couple of these terms are. On the left, we have the PPV; and in the numerator on the right, the first term is the sensitivity. So, Bayes' rule actually links these two quantities together:\n",
    "\n",
    "$$ \\mathrm{PPV} = \\frac{\\mathrm{sensitivity}\\cdot\\mathrm{Pr}(\\textrm{actually }+)}{\\mathrm{Pr}(\\textrm{test }+)} $$\n",
    "\n",
    "So we see that the PPV **explicitly depends on the probability of the person we test having Covid**: increasing our **prior belief** of whether the person we're testing has Covid (e.g., by changing our testing scheme to only test people with exposures) increases the PPV, while decreasing our prior belief decreases the PPV.\n",
    "\n",
    "Put together, this means that PPV is *not just a statement about the test*: it is **a statement about how the test is used**.\n",
    "\n",
    "We can use simulations to plot this dependence:"
   ]
  },
  {
   "cell_type": "code",
   "execution_count": 19,
   "id": "0a11b606-c749-44e5-b914-e001627b14c7",
   "metadata": {},
   "outputs": [
    {
     "name": "stderr",
     "output_type": "stream",
     "text": [
      "100%|██████████| 50/50 [00:01<00:00, 39.45it/s]\n"
     ]
    }
   ],
   "source": [
    "# Fancy progress bar!\n",
    "from tqdm import tqdm\n",
    "\n",
    "n_sample_sweep = 1000\n",
    "\n",
    "# We'll test a bunch of different levels of belief, spaced between 0 and 0.25\n",
    "covid_beliefs_sweep = np.linspace( 0, 0.25, 50 )\n",
    "\n",
    "# At each level of belief, we'll run `n_sims` number of simulations, to get\n",
    "# a solid distribution\n",
    "n_sims = 100\n",
    "# Pre-allocate all of the results we're going to get; we'll fill this in as we go!\n",
    "ppvs_sweep = np.zeros( (len( covid_beliefs_sweep ), n_sims) )\n",
    "npvs_sweep = np.zeros( (len( covid_beliefs_sweep ), n_sims) )\n",
    "\n",
    "# `tqdm` turns any iterable into a progress bar!\n",
    "# `enumerate` doesn't know how long its contents are (they can be infinite!),\n",
    "# so we have to tell `tqdm` how long it is if we want it to show the total\n",
    "for i_sweep, covid_belief in tqdm( enumerate( covid_beliefs_sweep ),\n",
    "                                   total = len( covid_beliefs_sweep ) ):\n",
    "    \n",
    "    for i_sim in range( n_sims ):\n",
    "    \n",
    "        has_covid_sweep, rtpcr_positive_sweep = sample_results( n_sample_sweep,\n",
    "                                                                covid_belief,\n",
    "                                                                rtpcr_sensitivity,  # Same as before!\n",
    "                                                                rtpcr_specificity ) # Same as before!\n",
    "\n",
    "        ppvs_sweep[i_sweep, i_sim], npvs_sweep[i_sweep, i_sim] = predictive_value( has_covid_sweep, rtpcr_positive_sweep )"
   ]
  },
  {
   "cell_type": "code",
   "execution_count": 20,
   "id": "d44d930f-7365-4a7d-a659-ed0e2b6208a8",
   "metadata": {},
   "outputs": [],
   "source": [
    "# A convenience function for plotting a band with mean +/- SD\n",
    "def plot_band( ax, x, mean, std,\n",
    "               color = '',\n",
    "               kwargs_plot = dict(),\n",
    "               kwargs_fill = dict() ):\n",
    "    \n",
    "    # `**kwargs_plot` tells Python to pass this dict to `plot` as keyword arguments\n",
    "    # This makes it so that I can control any behavior of `plot` (and `fill_between`, below)\n",
    "    # without having to explicitly write out every argument I want to control beforehand!\n",
    "    ax.plot( x, mean, f'{color}-', **kwargs_plot )\n",
    "    ax.fill_between( x, mean - std, mean + std,\n",
    "                     color = color,\n",
    "                     alpha = 0.2,\n",
    "                     **kwargs_fill )"
   ]
  },
  {
   "cell_type": "code",
   "execution_count": 21,
   "id": "9db138d9-b7c9-4f39-bcd8-e4cdf1607c1a",
   "metadata": {},
   "outputs": [
    {
     "data": {
      "image/png": "[encoded data removed]",
      "text/plain": [
       "<Figure size 864x288 with 1 Axes>"
      ]
     },
     "metadata": {
      "needs_background": "light"
     },
     "output_type": "display_data"
    }
   ],
   "source": [
    "ppvs_sweep_mean = np.mean( ppvs_sweep, axis = 1 )\n",
    "ppvs_sweep_std = np.std( ppvs_sweep, axis = 1 )\n",
    "npvs_sweep_mean = np.mean( npvs_sweep, axis = 1 )\n",
    "npvs_sweep_std = np.std( npvs_sweep, axis = 1 )\n",
    "\n",
    "fig, ax = plt.subplots( figsize = (12, 4) )\n",
    "\n",
    "# Here I pass in the 'label' keyword argument so that `matplotlib` makes a nice legend when\n",
    "# I call `legend` below\n",
    "plot_band( ax, covid_beliefs_sweep, ppvs_sweep_mean, ppvs_sweep_std, 'b',\n",
    "           kwargs_plot = { 'label': 'PPV'} )\n",
    "plot_band( ax, covid_beliefs_sweep, npvs_sweep_mean, npvs_sweep_std, 'r',\n",
    "           kwargs_plot = { 'label': 'NPV'} )\n",
    "\n",
    "# Just going to plot a couple of vertical lines to showcaase where our examples were\n",
    "yl = ax.get_ylim()\n",
    "ax.plot( [covid_prevalence, covid_prevalence],\n",
    "         yl,\n",
    "         'k--',\n",
    "         label = 'Random testing' )\n",
    "ax.plot( [covid_belief_suspicious, covid_belief_suspicious],\n",
    "         yl,\n",
    "         'm--',\n",
    "         label = 'Testing after confirmed exposure' )\n",
    "\n",
    "ax.set_ylim( yl )\n",
    "\n",
    "ax.set_xlabel( 'Prior belief of Covid' )\n",
    "\n",
    "ax.legend()\n",
    "\n",
    "plt.show()"
   ]
  },
  {
   "cell_type": "markdown",
   "id": "1acf8d53-c403-44be-b26c-c3896cee10ef",
   "metadata": {},
   "source": [
    "We can see from the left-hand side of this curve that even **very weak improvements in our prior belief** can lead to **vast changes in the utility of our test**!"
   ]
  },
  {
   "cell_type": "markdown",
   "id": "2552c042-8ccc-4a90-a052-a20aabe3cf22",
   "metadata": {},
   "source": [
    "---"
   ]
  },
  {
   "cell_type": "markdown",
   "id": "ab72ef72-dbea-40c1-8a29-d4356f06e713",
   "metadata": {},
   "source": [
    "We use statistical tests all the time in science. When we get the result of a test, we ideally would like to **infer** something about the world we live in based on the result of the test. Just like for the PPV:\n",
    "\n",
    "$$ \\mathrm{PPV} = \\mathrm{Pr}(\\textrm{actually }+ \\mid \\textrm{test }+) $$\n",
    "\n",
    "what we're looking for in science is, taking as given *some bit of information we saw* (e.g., \"a $t$-test rejects the null hypothesis at $p < 0.05$\"), how confident are we about some statement about the world (e.g., \"gamma oscillations are larger in amplitude in the decision period\"). This is exactly analogous to the PPV in the Covid test case:\n",
    "\n",
    "$$ \\mathrm{PPV} = \\mathrm{Pr}(\\textrm{actually a difference} \\mid \\textrm{test rejects null hypothesis}) $$\n",
    "\n",
    "Because of Bayes' rule, we know that\n",
    "\n",
    "$$ \\mathrm{PPV} = \\mathrm{Pr}(\\textrm{actually a difference} \\mid \\textrm{test rejects null hypothesis}) = \\frac{\\mathrm{Pr}(\\textrm{test rejects null hypothesis} \\mid \\textrm{actually a difference})\\,\\mathrm{Pr}(\\textrm{actually a difference})}{\\mathrm{Pr}(\\textrm{test rejects null hypothesis})} $$\n",
    "\n",
    "Just as the PPV in the Covid test scenario depended on our prior knowledge of whether the person being tested had Covid, **the PPV of our statistical test depends on our prior knowledge of whether the difference we're looking for is real**.\n",
    "\n",
    "Let's say I go out into the world and start using the `correlation` function between every pair of two datasets I can get my hands on. The probability that any two of those randomly chosen datasets are **actually** causally related to one another, $\\mathrm{Pr}(\\textrm{actually a relationship})$, is *astronomically small*. So when I stumble upon a pair where, after plugging all the data into the appropriate MATLAB toolbox, I excitedly check in the terminal"
   ]
  },
  {
   "cell_type": "raw",
   "id": "4041437a-2b46-4e37-a8f2-80763cb0b8b3",
   "metadata": {},
   "source": [
    ">> pvalue\n",
    "\n",
    "ans =\n",
    "\n",
    "    0.0235"
   ]
  },
  {
   "cell_type": "markdown",
   "id": "235f2870-107e-474a-8baf-5f7bc6abee44",
   "metadata": {},
   "source": [
    "what do I actually *take away* from this? What can I infer about the *actual* relationship between the two things I checked? Put in terms we've seen: what is\n",
    "\n",
    "$$ \\mathrm{PPV} = \\mathrm{Pr}(\\textrm{actually a relationship} \\mid \\textrm{test shows that }p < 0.05) $$\n",
    "\n",
    "Just like in the situation with random Covid testing, because the prior probability of there being a relationship is so astronomically small, **the PPV of testing random correlations will be exceedingly low**: that is, most of the times when I run the test and show a positive result—a significant correlation!—**the result will be a false positive**. Because the prior is so low, this test is not informative: I cannot draw any useful conclusions after running the statistics.\n",
    "\n",
    "It's important to remember, though, that this **is not a statement about the test**. This isn't a bad statistical test, in much the same way as the RT-PCR is **not** a bad test for Covid. Rather, the issue is with **how the test is used**. In order to make any statistical test's results meaningful—that is, in order to ensure that the positive predictive value is high enough to enable us to draw *inferences* about the world from the results—we need to use the test in some kind of intelligent scheme, like the above example with testing after *exposures*, that gives us a little bit of *prior knowledge*. It doesn't have to be much: as we saw above, even just improving our suspicion of Covid to 5%—very weak information about the diagnosis—dramatically improved the usefulness of the RT-PCR test, with the PPV jumping from 16% to 82%—**for the exact same test**!\n",
    "\n",
    "Statistical testing is not just a matter of selecting the \"correct\" test for a given question. Being judicious about selecting the correct **questions** to apply the test *to* is a more powerful way to strengthen the inferences gained through statistics, to improve the reproducibility of science, and to more responsibly use resources, like experimental animals, that we are ethically obligated to minimize."
   ]
  },
  {
   "cell_type": "markdown",
   "id": "89cd92f1-ec7a-4153-99ae-72b148b11240",
   "metadata": {},
   "source": [
    "---"
   ]
  },
  {
   "cell_type": "markdown",
   "id": "cce3d925-ed28-4da3-8c6c-895ae736248f",
   "metadata": {},
   "source": [
    "### Follow-Up Questions\n",
    "\n",
    "For fun 🙃.\n",
    "\n",
    "#### Decision theory\n",
    "\n",
    "> What is a \"good\" positive or negative predictive value, quantitatively?\n",
    "\n",
    "> What do we do once we get a test result?\n",
    "\n",
    "> Are false positives and false negatives equally bad? Which should we prioritize making as large as possible, PPV or NPV?\n",
    "\n",
    "#### Experimental design\n",
    "\n",
    "> How do we know whether our belief about the prevalence of Covid is correct? How do we know how accurate our prior belief about a statement in science is?\n",
    "\n",
    "> **How do we choose the next test to run?**\n",
    "\n",
    "#### Accumulating evidence\n",
    "\n",
    "> Let's say we run a second experiment with a second test. Now we can use Bayes' rule to find that\n",
    "> \n",
    "> $$\n",
    "\\begin{eqnarray*}\n",
    "    \\mathrm{Pr}(\\textrm{statement } \\mid \\textrm{test 1 }+) & = & \\frac{\\mathrm{Pr}(\\textrm{test 1 }+ \\mid \\textrm{statement})\\,\\mathrm{Pr}(\\textrm{statement})}{\\mathrm{Pr}(\\textrm{test 1 }+)} \\\\\n",
    "    \\mathrm{Pr}(\\textrm{statement } \\mid \\textrm{test 1 }+,\\textrm{test 2 }+) & = & \\frac{\\mathrm{Pr}(\\textrm{test 2 }+ \\mid \\textrm{statement}, \\textrm{test 1 }+)\\,\\mathrm{Pr}(\\textrm{statement} \\mid \\textrm{test 1 }+)}{\\mathrm{Pr}(\\textrm{test 2 }+)} \\\\\n",
    "    \\mathrm{Pr}(\\textrm{statement } \\mid \\textrm{test 1 }+,\\textrm{test 2 }+,\\textrm{test 3 }+) & = & \\cdots\n",
    "\\end{eqnarray*}\n",
    "$$\n",
    ">\n",
    "> And so on, for test after test. That is, we can **update** our belief using the evidence from each successive test. How deep does this rabbit hole go? What does this process converge to? What does this convergence depend on? Does it converge at all?\n",
    ">\n",
    "> <img src=\"figures/ppv/f2.png\" style=\"display: block;margin-left: auto;margin-right: auto;width: 65%;\" />\n",
    "\n",
    "> Let's say we *update* our belief with successive tests, as above, but at each step, we choose the next test such that it will maximally increase our updated probability, $\\mathrm{Pr}(\\textrm{statement} \\mid \\textrm{tests})$—that is, we choose the experiment that we think will give us the most evidence supporting our model. What does this process converge to?\n",
    "\n",
    "> Let's say we *update* our belief with successive tests, as above, but at each step, we choose the next test **completely at random**. What does this process converge to?\n",
    "\n",
    "> Let's say we *update* our belief with successive tests, but we are **really wrong** about our initial belief. What happens to the limit? Will it always end up in the same place at the end of the process? What is the best initial belief to have?\n",
    "\n",
    "#### Comparing models\n",
    "\n",
    "> Let's say we *update* our belief with successive tests, but this time, we look at **multiple** candidate models; i.e., we obtain\n",
    ">\n",
    "> $$\n",
    "\\begin{eqnarray*}\n",
    "    &\\mathrm{Pr}(\\textrm{model 1} \\mid \\textrm{test 1},\\cdots,\\textrm{test }n) \\\\\n",
    "    &\\mathrm{Pr}(\\textrm{model 2} \\mid \\textrm{test 1},\\cdots,\\textrm{test }n) \\\\\n",
    "    &\\cdots \\\\\n",
    "    &\\mathrm{Pr}(\\textrm{model }k \\mid \\textrm{test 1},\\cdots,\\textrm{test }n)\n",
    "\\end{eqnarray*}\n",
    "$$\n",
    ">\n",
    "> Does the presence of multiple candidate models change the way we should choose the next test?\n",
    ">\n",
    "> <img src=\"figures/ppv/f3.png\" style=\"display: block;margin-left: auto;margin-right: auto;width: 65%;\" />\n",
    "\n",
    "> In the above scheme with multiple candidate models, let's say that the **truth** is **not** among the models that you considered. What does this process converge to? How do you interpret the result? How do you know whether you included the truth as a candidate model?\n",
    "\n",
    "#### History dependence\n",
    "\n",
    "The process of updating our beliefs about our model is kind of like an optimization problem: there is some \"landscape\" painted across the space of all models we're considering, with the \"height\" at each point (each model) corresponding to the \"badness\" of that model—for example, the model's *prediction error*. Our goal is to incrementally update what we *think* the model is in order to find the lowest point—the \"best\" model—in the hopes that this is the **truth**.\n",
    "\n",
    "<img src=\"figures/ppv/f4.png\" style=\"display: block;margin-left: auto;margin-right: auto;width: 65%;\" />\n",
    "\n",
    "> After each experiment we run, we collect new data. This data changes how we measure the badness or goodness of a model's fit, which **alters the landscape** of our optimization problem.\n",
    ">\n",
    "> <img src=\"figures/ppv/f5.png\" style=\"display: block;margin-left: auto;margin-right: auto;width: 65%;\" />\n",
    ">\n",
    "> What happens if we start off very wrong about our prediction of what model is best? Does our optimization process converge to the truth? How can we ever \"recover\"?\n",
    "\n",
    "> Is this new minimum *actually* the truth? That is, was our notion of truth—our \"landscape\"—wrong to begin with? Was the evidence that \"eroded\" the landscape actually *helpful*? Or was this erosion a result of our bias from an incorrect prediction?\n",
    "\n",
    "> **How does the optimum we converge to depend on how we choose the next test to run?**\n",
    "\n",
    "> If we had lived in a world with a vastly different initial prediction, would **yet another** minimum have emerged? Is *that* the truth?\n",
    "\n",
    "> Is there a criterion for optimality that is independent of our starting position? Can we design a scheme for conducting tests that makes us more likely to converge to the \"optimum\" model according to that criterion?\n",
    "\n",
    "> Is any of this even a problem? Should we try to design scientific inquiry so that this effect is minimized? Or is this an important feature of how science behaves? Is the model we converge to through this process a statement about the world we live in, or just a statement about the process *itself*?\n",
    "\n",
    "> What would scientific \"truth\" look like today if we had had different structures in place for how we conduct science all along? What amazing ideas have we missed out on?"
   ]
  },
  {
   "cell_type": "markdown",
   "id": "266f9e13",
   "metadata": {},
   "source": [
    "In many situations, we use data to **test** (that is, make a binary decision about) whether a statement is true or false. Recall that there is a *big disconnect* between whether the statement is *actually* true, and whether a particular test *claims* that the statement is true. This happens because of **randomness** in the test results.\n",
    "\n",
    "Really, though, we don't care about the result of the test *per se*. What we want to do is **infer**, based on the result of the test, some kind of truth about *what universe we live in*. The **positive predictive value** quantifies our ability to make this inference: it is the knowledge you glean about whether the statement is true when your test *suggests* to you that the statement is true. Quantitatively, PPV is the probability that the statement is *actually* true **given** that you saw test results indicating that the statement is true; that is,\n",
    "\n",
    "$$ \\mathrm{PPV} = \\mathrm{Pr}(\\textrm{the statement is true} \\mid \\textrm{the test claims the statement is true}) $$\n",
    "\n",
    "> This uses the notation of **conditional probability**: the notation\n",
    ">\n",
    "> $$ \\mathrm{Pr}(X \\mid Y) $$\n",
    ">\n",
    "> is interpreted as \"The probability that $X$ is true **given** that we know for certain that $Y$ is true.\" This doesn't necessarily tell us that $Y$ *is actually* true; it's what would happen to our knowledge of $X$ *if we assume* that $Y$ is true.\n",
    ">\n",
    "> <img src=\"figures/ppv/f1.png\" />\n",
    "\n",
    "In science, where we take *samples* of data to make inferences about an entire *population*, we might phrase this as something like\n",
    "\n",
    "$$ \\mathrm{PPV} = \\mathrm{Pr}(\\textrm{there is an effect in the population} \\mid \\textrm{you see an effect in your sample}) $$\n",
    "\n",
    "Importantly, though, we **assume as given** the test result. We know the result of the test as a certain fact, because it is the data we saw with our own eyes!"
   ]
  },
  {
   "cell_type": "markdown",
   "id": "c5ae68c5",
   "metadata": {},
   "source": [
    "Notice that this is **very different** from what is measured with a $p$-value. The $p$-value is the *false positive rate* **under the hypothetical assumption that there is, in fact, no effect in the population**; that is,\n",
    "\n",
    "$$ p = \\mathrm{Pr}(\\textrm{you see an effect in your sample} \\mid \\textrm{there is no effect in the population}) $$\n",
    "\n",
    "The conditioning is **backwards**: here, we make our assumption about *what universe we live in*, not *what data we obtained*.\n",
    "\n",
    "This formalism is convenient, because often we can make pretty good assumptions about the **disitribution** of our data if we take it as a given that there is no effect. Even when all of our heavy-hitting tools fail, we can almost always fall back on *approximating* that distribution by randomly jumbling up all of the labels on our data to **artificially impose** a condition where there is truthfully no effect. This scheme is known as **permutation testing**.\n",
    "\n",
    "But even though it's convenient, the way the $p$-value is constructed isn't really how science works in the real world: after all, we *don't know* what world we live in. (We want to find out—that's the whole point of science!) But we *do know* what data we record from our experiments, as well as the test results that we derive from that data. What we want to do is **infer** something about the universe **given**—or, conditional upon—the data that we have obtained. How do we translate back and forth between these two pictures, with the conditioning flipped?"
   ]
  }
 ],
 "metadata": {
  "celltoolbar": "Slideshow",
  "kernelspec": {
   "display_name": "Python 3",
   "language": "python",
   "name": "python3"
  },
  "language_info": {
   "codemirror_mode": {
    "name": "ipython",
    "version": 3
   },
   "file_extension": ".py",
   "mimetype": "text/x-python",
   "name": "python",
   "nbconvert_exporter": "python",
   "pygments_lexer": "ipython3",
   "version": "3.8.8"
  }
 },
 "nbformat": 4,
 "nbformat_minor": 5
}
